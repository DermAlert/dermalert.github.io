{
 "cells": [
  {
   "cell_type": "markdown",
   "id": "d3d3b0ae",
   "metadata": {},
   "source": [
    "# Soma Skin Cancer Classifier"
   ]
  },
  {
   "cell_type": "markdown",
   "id": "9bf869c7",
   "metadata": {},
   "source": [
    "### Este notebook utiliza um modelo treinado com ResNet18 para classificar imagens de lesões de pele como \"benigno\" ou \"maligno\"."
   ]
  },
  {
   "cell_type": "markdown",
   "id": "a0accc3a",
   "metadata": {},
   "source": [
    "#### Instalando Dependências"
   ]
  },
  {
   "cell_type": "code",
   "execution_count": null,
   "id": "ffb92ff7",
   "metadata": {},
   "outputs": [],
   "source": [
    "!pip install torch torchvision pillow"
   ]
  },
  {
   "cell_type": "markdown",
   "id": "a55033e6",
   "metadata": {},
   "source": [
    "#### Importação de bibliotecas"
   ]
  },
  {
   "cell_type": "code",
   "execution_count": null,
   "id": "7e57408a",
   "metadata": {},
   "outputs": [],
   "source": [
    "import torch\n",
    "from torchvision import transforms, models\n",
    "from PIL import Image\n",
    "import io"
   ]
  },
  {
   "cell_type": "markdown",
   "id": "478a5200",
   "metadata": {},
   "source": [
    "#### Carregamento do Modelo"
   ]
  },
  {
   "cell_type": "code",
   "execution_count": null,
   "id": "c054b9da",
   "metadata": {},
   "outputs": [],
   "source": [
    "# Carrega o modelo salvo\n",
    "model = models.resnet18(weights=None)\n",
    "model.fc = torch.nn.Linear(model.fc.in_features, 2)\n",
    "\n",
    "# Substitua o caminho pelo local correto do seu arquivo .pt\n",
    "model.load_state_dict(torch.load(\"app/utils/data/skin_cancer_resnet18_version1.pt\", map_location=\"cpu\"))\n",
    "model.eval()"
   ]
  },
  {
   "cell_type": "markdown",
   "id": "0faed80d",
   "metadata": {},
   "source": [
    "#### Definição das Transformações"
   ]
  },
  {
   "cell_type": "code",
   "execution_count": null,
   "id": "3b8a41f9",
   "metadata": {},
   "outputs": [],
   "source": [
    "transform = transforms.Compose([\n",
    "    transforms.Resize((224, 224)),\n",
    "    transforms.ToTensor()\n",
    "])"
   ]
  },
  {
   "cell_type": "markdown",
   "id": "03332425",
   "metadata": {},
   "source": [
    "#### Função de Classificação"
   ]
  },
  {
   "cell_type": "code",
   "execution_count": null,
   "id": "64aa4a42",
   "metadata": {},
   "outputs": [],
   "source": [
    "def classificar_tipo_lesao(file_content: bytes) -> str:\n",
    "    try:\n",
    "        imagem = Image.open(io.BytesIO(file_content)).convert(\"RGB\")\n",
    "        input_tensor = transform(imagem).unsqueeze(0)\n",
    "\n",
    "        with torch.no_grad():\n",
    "            output = model(input_tensor)\n",
    "            pred = torch.argmax(output, dim=1).item()\n",
    "\n",
    "        return \"benigno\" if pred == 0 else \"maligno\"\n",
    "\n",
    "    except Exception as e:\n",
    "        print(f\"Erro ao classificar a imagem: {str(e)}\")\n",
    "        return \"Erro ao classificar a imagem\""
   ]
  },
  {
   "cell_type": "markdown",
   "id": "21d5158b",
   "metadata": {},
   "source": [
    "#### Teste com uma Imagem"
   ]
  },
  {
   "cell_type": "code",
   "execution_count": null,
   "id": "faa8b0ab",
   "metadata": {},
   "outputs": [],
   "source": [
    "# Substitua pelo caminho de uma imagem de teste\n",
    "caminho_imagem = \"docs/ajuda-e-suporte/documentacao-gces/notebooks-machine-learning/imagens-scic/benign-keratosis.jpg\"\n",
    "\n",
    "with open(caminho_imagem, \"rb\") as f:\n",
    "    conteudo = f.read()\n",
    "\n",
    "resultado = classificar_tipo_lesao(conteudo)\n",
    "print(\"Resultado da classificação:\", resultado)"
   ]
  },
  {
   "cell_type": "markdown",
   "id": "3b075e44",
   "metadata": {},
   "source": [
    "#### Conclusão"
   ]
  },
  {
   "cell_type": "markdown",
   "id": "833b22cf",
   "metadata": {},
   "source": [
    "##### O modelo foi carregado e testado com sucesso! Você pode testar outras imagens alterando o caminho do arquivo."
   ]
  }
 ],
 "metadata": {
  "kernelspec": {
   "display_name": "Python 3",
   "language": "python",
   "name": "python3"
  },
  "language_info": {
   "codemirror_mode": {
    "name": "ipython",
    "version": 3
   },
   "file_extension": ".py",
   "mimetype": "text/x-python",
   "name": "python",
   "nbconvert_exporter": "python",
   "pygments_lexer": "ipython3",
   "version": "3.12.3"
  }
 },
 "nbformat": 4,
 "nbformat_minor": 5
}
